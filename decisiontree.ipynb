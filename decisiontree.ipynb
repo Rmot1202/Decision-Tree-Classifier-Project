{
 "cells": [
  {
   "cell_type": "code",
   "execution_count": 5,
   "id": "bc0468",
   "metadata": {
    "collapsed": false
   },
   "outputs": [
   ],
   "source": [
    "from sklearn import tree\n",
    "import numpy as np\n",
    "import matplotlib.pyplot as plt \n",
    "import pandas as pd\n",
    "from sklearn.preprocessing import StandardScaler\n",
    "from sklearn.model_selection import train_test_split\n",
    "from sklearn.metrics import f1_score, accuracy_score, matthews_corrcoef, balanced_accuracy_score\n",
    "import time"
   ]
  },
  {
   "cell_type": "code",
   "execution_count": 6,
   "id": "545355",
   "metadata": {
    "collapsed": false
   },
   "outputs": [
    {
     "name": "stdout",
     "output_type": "stream",
     "text": [
      "Welcome to JupyROOT 6.30/06\n"
     ]
    }
   ],
   "source": [
    "# load ROOT\n",
    "import ROOT"
   ]
  },
  {
   "cell_type": "code",
   "execution_count": 7,
   "id": "c79142",
   "metadata": {
    "collapsed": false
   },
   "outputs": [
    {
     "data": {
      "text/plain": [
       "0"
      ]
     },
     "execution_count": 7,
     "metadata": {
     },
     "output_type": "execute_result"
    }
   ],
   "source": [
    "# load TNeutron class\n",
    "ROOT.gSystem.Load('/home/user/data/ML/lib/v6_30/TNeutron_cc.so')"
   ]
  },
  {
   "cell_type": "code",
   "execution_count": 8,
   "id": "c23c5b",
   "metadata": {
    "collapsed": false
   },
   "outputs": [
   ],
   "source": [
    "# set the path to our simulation file\n",
    "#datapath = \"/home/user/data/ML/MLP_mult2/\"\n",
    "#datapath = \"/home/user/data/ML/e15118/\"\n",
    "datapath = \"/home/user/data/ML/stmona/\""
   ]
  },
  {
   "cell_type": "code",
   "execution_count": 9,
   "id": "4d54a4",
   "metadata": {
    "collapsed": false
   },
   "outputs": [
   ],
   "source": [
    "# open the ROOT file and load the TTree that it contains\n",
    "#rootfile = ROOT.TFile(datapath + \"delta18_O262plus_2nThermal2.root\",\"READ\")\n",
    "# try this one for training\n",
    "rootfile = ROOT.TFile(datapath + \"tneutron_mult2_26O_24O+2n-uniform.root\",\"READ\")\n",
    "# try this one to test your trained model\n",
    "rootfile1 = ROOT.TFile(datapath + \"tneutron_mult2_26O_24O+2n-delta500keV.root\",\"READ\")\n",
    "tre1= rootfile1.Get(\"snt\")\n",
    "tre = rootfile.Get(\"snt\")\n",
    "#tree.Print()"
   ]
  },
  {
   "cell_type": "code",
   "execution_count": 10,
   "id": "5a4833",
   "metadata": {
    "collapsed": false
   },
   "outputs": [
   ],
   "source": [
    "# copy data from the tree\n",
    "entries = tre.GetEntries();\n",
    "hit_data = np.zeros((entries, 10));\n",
    "label = np.empty(entries);\n",
    "label.fill(9);\n",
    "for i in range(entries):\n",
    "  # get the tree index for the next entry on our list\n",
    "  # and load this entry from the TTree\n",
    "  tre.GetEntry(i)\n",
    "  # transfer the data for this entry to our numpy array\n",
    "  # x0\n",
    "  hit_data[i][0] = tre.g.x[0]\n",
    "  # y0\n",
    "  hit_data[i][1] = tre.g.y[0]\n",
    "  # z0\n",
    "  hit_data[i][2] = tre.g.z[0]\n",
    "  # t0\n",
    "  hit_data[i][3] = tre.g.t[0]\n",
    "  # q0\n",
    "  hit_data[i][4] = tre.g.q[0]\n",
    "  # x1\n",
    "  hit_data[i][5] = tre.g.x[1]\n",
    "  # y1\n",
    "  hit_data[i][6] = tre.g.y[1]\n",
    "  # z1\n",
    "  hit_data[i][7] = tre.g.z[1]\n",
    "  # t1\n",
    "  hit_data[i][8] = tre.g.t[1]\n",
    "  # q1\n",
    "  hit_data[i][9] = tre.g.q[1]\n",
    "  # label\n",
    "  label[i]= tre.signal\n",
    "  #label[i]= tree.target"
   ]
  },
  {
   "cell_type": "code",
   "execution_count": 11,
   "id": "6c8faa",
   "metadata": {
    "collapsed": false
   },
   "outputs": [
   ],
   "source": [
    "# create calculated data matrix\n",
    "entries = tre.GetEntries();\n",
    "hit_calc= np.zeros((entries, 7));\n",
    "for i in range(entries):\n",
    "  # calculated quantities\n",
    "  tre.GetEntry(i);\n",
    "  hit_calc[i][0] = tre.g.GetVelocity(0);\n",
    "  hit_calc[i][1] = tre.g.GetVelocity(1);\n",
    "  hit_calc[i][2] = tre.g.HitSeparation(0,1);\n",
    "  hit_calc[i][3] = tre.g.HitVdiff(0,1);\n",
    "  hit_calc[i][4] = tre.g.HitOpeningAngle(0,1);\n",
    "  hit_calc[i][5] = tre.g.HitNSI(0,1);\n",
    "  hit_calc[i][6] = tre.g.HitScatteringAngle(0,1);"
   ]
  },
  {
   "cell_type": "code",
   "execution_count": 12,
   "id": "952930",
   "metadata": {
    "collapsed": false
   },
   "outputs": [
   ],
   "source": [
    "# copy data from the tree\n",
    "entries1 = tre1.GetEntries();\n",
    "hit_data1 = np.zeros((entries1, 10));\n",
    "label1 = np.empty(entries1);\n",
    "label1.fill(9);\n",
    "for o in range(entries1):\n",
    "  # get the tree index for the next entry on our list\n",
    "  # and load this entry from the TTree\n",
    "  tre1.GetEntry(o)\n",
    "  # transfer the data for this entry to our numpy array\n",
    "  # x0\n",
    "  hit_data1[o][0] = tre1.g.x[0]\n",
    "  # y0\n",
    "  hit_data1[o][1] = tre1.g.y[0]\n",
    "  # z0\n",
    "  hit_data1[o][2] = tre1.g.z[0]\n",
    "  # t0\n",
    "  hit_data1[o][3] = tre1.g.t[0]\n",
    "  # q0\n",
    "  hit_data1[o][4] = tre1.g.q[0]\n",
    "  # x1\n",
    "  hit_data1[o][5] = tre1.g.x[1]\n",
    "  # y1\n",
    "  hit_data1[o][6] = tre1.g.y[1]\n",
    "  # z1\n",
    "  hit_data1[o][7] = tre1.g.z[1]\n",
    "  # t1\n",
    "  hit_data1[o][8] = tre1.g.t[1]\n",
    "  # q1\n",
    "  hit_data1[o][9] = tre1.g.q[1]\n",
    "  # label\n",
    "  label1[o]= tre1.signal"
   ]
  },
  {
   "cell_type": "code",
   "execution_count": 13,
   "id": "7e5a68",
   "metadata": {
    "collapsed": false
   },
   "outputs": [
   ],
   "source": [
    "# create calculated data matrix\n",
    "entries1 = tre1.GetEntries();\n",
    "hit_calc1= np.zeros((entries1, 7));\n",
    "for o in range(entries1):\n",
    "  # calculated quantities\n",
    "  tre1.GetEntry(o);\n",
    "  hit_calc1[o][0] = tre1.g.GetVelocity(0);\n",
    "  hit_calc1[o][1] = tre1.g.GetVelocity(1);\n",
    "  hit_calc1[o][2] = tre1.g.HitSeparation(0,1);\n",
    "  hit_calc1[o][3] = tre1.g.HitVdiff(0,1);\n",
    "  hit_calc1[o][4] = tre1.g.HitOpeningAngle(0,1);\n",
    "  hit_calc1[o][5] = tre1.g.HitNSI(0,1);\n",
    "  hit_calc1[o][6] = tre1.g.HitScatteringAngle(0,1);"
   ]
  },
  {
   "cell_type": "code",
   "execution_count": 14,
   "id": "bfdcdb",
   "metadata": {
    "collapsed": false
   },
   "outputs": [
   ],
   "source": [
    "# Concatenate measured and calculated quantities\n",
    "input_data_min_max1 = np.concatenate((hit_data1, hit_calc1), axis=1)\n",
    "X1 = input_data_min_max1\n",
    "y1 = label1\n",
    "# Scale the features using Standered\n",
    "scaler = StandardScaler()\n",
    "Dataset_featured1 = scaler.fit_transform(X1)"
   ]
  },
  {
   "cell_type": "code",
   "execution_count": 15,
   "id": "3ed1af",
   "metadata": {
    "collapsed": false
   },
   "outputs": [
   ],
   "source": [
    "# Concatenate measured and calculated quantities\n",
    "input_data_min_max = np.concatenate((hit_data, hit_calc), axis=1)\n",
    "X = input_data_min_max\n",
    "y = label\n",
    "\n",
    "# Scale the features using Standered\n",
    "Dataset_featured = scaler.fit_transform(X)"
   ]
  },
  {
   "cell_type": "code",
   "execution_count": 16,
   "id": "53aa83",
   "metadata": {
    "collapsed": false
   },
   "outputs": [
   ],
   "source": [
    "clf = tree.DecisionTreeClassifier()"
   ]
  },
  {
   "cell_type": "code",
   "execution_count": 40,
   "id": "d69286",
   "metadata": {
    "collapsed": false
   },
   "outputs": [
    {
     "name": "stdout",
     "output_type": "stream",
     "text": [
      "{0.0, 1.0}\n",
      "{0.0, 1.0}\n",
      "[1. 0.]\n",
      "[0. 1.]\n"
     ]
    },
    {
     "name": "stdout",
     "output_type": "stream",
     "text": [
      "Accuracy: 0.663953541752743\n",
      "It took 0.08322644233703613 seconds! 100\n",
      "{0.0, 1.0}\n",
      "{0.0, 1.0}\n",
      "[1. 0.]\n",
      "[1. 0.]\n"
     ]
    },
    {
     "name": "stdout",
     "output_type": "stream",
     "text": [
      "Accuracy: 0.7140568333103796\n",
      "It took 0.025999784469604492 seconds! 600\n",
      "{0.0, 1.0}\n",
      "{0.0, 1.0}\n",
      "[1. 0.]\n",
      "[1. 0.]\n"
     ]
    },
    {
     "name": "stdout",
     "output_type": "stream",
     "text": [
      "Accuracy: 0.7474039388513979\n",
      "It took 0.02896904945373535 seconds! 1100\n",
      "{0.0, 1.0}\n",
      "{0.0, 1.0}\n",
      "[1. 0.]\n",
      "[1. 0.]\n"
     ]
    },
    {
     "name": "stdout",
     "output_type": "stream",
     "text": [
      "Accuracy: 0.5142037368590185\n",
      "It took 0.03746294975280762 seconds! 1600\n",
      "{0.0, 1.0}\n",
      "{0.0, 1.0}\n",
      "[1. 0.]\n",
      "[1. 0.]\n"
     ]
    },
    {
     "name": "stdout",
     "output_type": "stream",
     "text": [
      "Accuracy: 0.7006702474406648\n",
      "It took 0.05063986778259277 seconds! 2100\n",
      "{0.0, 1.0}\n",
      "{0.0, 1.0}\n",
      "[1. 0.]\n",
      "[1. 0.]\n"
     ]
    },
    {
     "name": "stdout",
     "output_type": "stream",
     "text": [
      "Accuracy: 0.7127806087315797\n",
      "It took 0.055877685546875 seconds! 2600\n",
      "{0.0, 1.0}\n",
      "{0.0, 1.0}\n",
      "[1. 0.]\n",
      "[0. 1.]\n"
     ]
    },
    {
     "name": "stdout",
     "output_type": "stream",
     "text": [
      "Accuracy: 0.6515493733645503\n",
      "It took 0.07206439971923828 seconds! 3100\n",
      "{0.0, 1.0}\n",
      "{0.0, 1.0}\n",
      "[1. 0.]\n",
      "[0. 1.]\n"
     ]
    },
    {
     "name": "stdout",
     "output_type": "stream",
     "text": [
      "Accuracy: 0.627145021346922\n",
      "It took 0.076904296875 seconds! 3600\n",
      "{0.0, 1.0}\n",
      "{0.0, 1.0}\n",
      "[1. 0.]\n",
      "[1. 0.]\n"
     ]
    },
    {
     "name": "stdout",
     "output_type": "stream",
     "text": [
      "Accuracy: 0.6455171463985677\n",
      "It took 0.08759856224060059 seconds! 4100\n",
      "{0.0, 1.0}\n",
      "{0.0, 1.0}\n",
      "[1. 0.]\n",
      "[1. 0.]\n"
     ]
    },
    {
     "name": "stdout",
     "output_type": "stream",
     "text": [
      "Accuracy: 0.6429601065050727\n",
      "It took 0.10330796241760254 seconds! 4600\n",
      "{0.0, 1.0}\n",
      "{0.0, 1.0}\n",
      "[1. 0.]\n",
      "[1. 0.]\n"
     ]
    },
    {
     "name": "stdout",
     "output_type": "stream",
     "text": [
      "Accuracy: 0.6482578157278612\n",
      "It took 0.11113500595092773 seconds! 5100\n",
      "{0.0, 1.0}\n",
      "{0.0, 1.0}\n",
      "[1. 0.]\n",
      "[1. 0.]\n"
     ]
    },
    {
     "name": "stdout",
     "output_type": "stream",
     "text": [
      "Accuracy: 0.6339071753202038\n",
      "It took 0.12987589836120605 seconds! 5600\n",
      "{0.0, 1.0}\n",
      "{0.0, 1.0}\n",
      "[1. 0.]\n",
      "[1. 0.]\n"
     ]
    },
    {
     "name": "stdout",
     "output_type": "stream",
     "text": [
      "Accuracy: 0.630064729376119\n",
      "It took 0.1417090892791748 seconds! 6100\n",
      "{0.0, 1.0}\n"
     ]
    },
    {
     "name": "stdout",
     "output_type": "stream",
     "text": [
      "{0.0, 1.0}\n",
      "[1. 0.]\n",
      "[1. 0.]\n"
     ]
    },
    {
     "name": "stdout",
     "output_type": "stream",
     "text": [
      "Accuracy: 0.6158564017812055\n",
      "It took 0.17165017127990723 seconds! 6600\n",
      "{0.0, 1.0}\n",
      "{0.0, 1.0}\n",
      "[1. 0.]\n",
      "[1. 0.]\n"
     ]
    },
    {
     "name": "stdout",
     "output_type": "stream",
     "text": [
      "Accuracy: 0.538727448009916\n",
      "It took 0.1597905158996582 seconds! 7100\n",
      "{0.0, 1.0}\n",
      "{0.0, 1.0}\n"
     ]
    },
    {
     "name": "stdout",
     "output_type": "stream",
     "text": [
      "[1. 0.]\n",
      "[1. 0.]\n"
     ]
    },
    {
     "name": "stdout",
     "output_type": "stream",
     "text": [
      "Accuracy: 0.5446311343708397\n",
      "It took 0.16701054573059082 seconds! 7600\n",
      "{0.0, 1.0}\n"
     ]
    },
    {
     "name": "stdout",
     "output_type": "stream",
     "text": [
      "{0.0, 1.0}\n",
      "[1. 0.]\n",
      "[1. 0.]\n"
     ]
    },
    {
     "name": "stdout",
     "output_type": "stream",
     "text": [
      "Accuracy: 0.5418675113620713\n",
      "It took 0.18401598930358887 seconds! 8100\n",
      "{0.0, 1.0}\n"
     ]
    },
    {
     "name": "stdout",
     "output_type": "stream",
     "text": [
      "{0.0, 1.0}\n",
      "[1. 0.]\n",
      "[1. 0.]\n"
     ]
    },
    {
     "name": "stdout",
     "output_type": "stream",
     "text": [
      "Accuracy: 0.5590322728733416\n",
      "It took 0.18906188011169434 seconds! 8600\n"
     ]
    },
    {
     "name": "stdout",
     "output_type": "stream",
     "text": [
      "{0.0, 1.0}\n",
      "{0.0, 1.0}\n",
      "[1. 0.]\n",
      "[1. 0.]\n"
     ]
    },
    {
     "name": "stdout",
     "output_type": "stream",
     "text": [
      "Accuracy: 0.524583390717532\n",
      "It took 0.2052135467529297 seconds! 9100\n"
     ]
    },
    {
     "name": "stdout",
     "output_type": "stream",
     "text": [
      "{0.0, 1.0}\n",
      "{0.0, 1.0}\n",
      "[1. 0.]\n",
      "[1. 0.]\n"
     ]
    },
    {
     "name": "stdout",
     "output_type": "stream",
     "text": [
      "Accuracy: 0.5607216636826884\n",
      "It took 0.25151753425598145 seconds! 9600\n"
     ]
    },
    {
     "name": "stdout",
     "output_type": "stream",
     "text": [
      "{0.0, 1.0}\n",
      "{0.0, 1.0}\n",
      "[1. 0.]\n",
      "[1. 0.]\n"
     ]
    },
    {
     "name": "stdout",
     "output_type": "stream",
     "text": [
      "Accuracy: 0.5608410228159574\n",
      "It took 0.22946977615356445 seconds! 10100\n"
     ]
    },
    {
     "name": "stdout",
     "output_type": "stream",
     "text": [
      "{0.0, 1.0}\n",
      "{0.0, 1.0}\n",
      "[1. 0.]\n",
      "[1. 0.]\n"
     ]
    },
    {
     "name": "stdout",
     "output_type": "stream",
     "text": [
      "Accuracy: 0.5332139742000642\n",
      "It took 0.23468899726867676 seconds! 10600\n"
     ]
    },
    {
     "name": "stdout",
     "output_type": "stream",
     "text": [
      "{0.0, 1.0}\n",
      "{0.0, 1.0}\n",
      "[1. 0.]\n",
      "[1. 0.]\n"
     ]
    },
    {
     "name": "stdout",
     "output_type": "stream",
     "text": [
      "Accuracy: 0.5471468576412799\n",
      "It took 0.24975299835205078 seconds! 11100\n"
     ]
    },
    {
     "name": "stdout",
     "output_type": "stream",
     "text": [
      "{0.0, 1.0}\n",
      "{0.0, 1.0}\n",
      "[1. 0.]\n",
      "[1. 0.]\n"
     ]
    },
    {
     "name": "stdout",
     "output_type": "stream",
     "text": [
      "Accuracy: 0.5490198778864251\n",
      "It took 0.26549816131591797 seconds! 11600\n"
     ]
    },
    {
     "name": "stdout",
     "output_type": "stream",
     "text": [
      "{0.0, 1.0}\n",
      "{0.0, 1.0}\n",
      "[1. 0.]\n",
      "[1. 0.]\n"
     ]
    },
    {
     "name": "stdout",
     "output_type": "stream",
     "text": [
      "Accuracy: 0.5510398016802094\n",
      "It took 0.31172823905944824 seconds! 12100\n"
     ]
    },
    {
     "name": "stdout",
     "output_type": "stream",
     "text": [
      "{0.0, 1.0}\n",
      "{0.0, 1.0}\n",
      "[1. 0.]\n",
      "[1. 0.]\n"
     ]
    },
    {
     "name": "stdout",
     "output_type": "stream",
     "text": [
      "Accuracy: 0.5528944589817748\n",
      "It took 0.35024476051330566 seconds! 12600\n"
     ]
    },
    {
     "name": "stdout",
     "output_type": "stream",
     "text": [
      "{0.0, 1.0}\n",
      "{0.0, 1.0}\n",
      "[1. 0.]\n",
      "[1. 0.]\n"
     ]
    },
    {
     "name": "stdout",
     "output_type": "stream",
     "text": [
      "Accuracy: 0.5296882890327319\n",
      "It took 0.3349466323852539 seconds! 13100\n"
     ]
    },
    {
     "name": "stdout",
     "output_type": "stream",
     "text": [
      "{0.0, 1.0}\n",
      "{0.0, 1.0}\n",
      "[1. 0.]\n",
      "[1. 0.]\n"
     ]
    },
    {
     "name": "stdout",
     "output_type": "stream",
     "text": [
      "Accuracy: 0.5333379240692283\n",
      "It took 0.33131980895996094 seconds! 13600\n"
     ]
    },
    {
     "name": "stdout",
     "output_type": "stream",
     "text": [
      "{0.0, 1.0}\n",
      "{0.0, 1.0}\n",
      "[1. 0.]\n",
      "[1. 0.]\n"
     ]
    },
    {
     "name": "stdout",
     "output_type": "stream",
     "text": [
      "Accuracy: 0.5539549189735115\n",
      "It took 0.38683223724365234 seconds! 14100\n"
     ]
    },
    {
     "name": "stdout",
     "output_type": "stream",
     "text": [
      "{0.0, 1.0}\n",
      "{0.0, 1.0}\n",
      "[1. 0.]\n",
      "[1. 0.]\n"
     ]
    },
    {
     "name": "stdout",
     "output_type": "stream",
     "text": [
      "Accuracy: 0.5661020061515861\n",
      "It took 0.37598371505737305 seconds! 14600\n"
     ]
    },
    {
     "name": "stdout",
     "output_type": "stream",
     "text": [
      "{0.0, 1.0}\n",
      "{0.0, 1.0}\n",
      "[1. 0.]\n",
      "[1. 0.]\n"
     ]
    },
    {
     "name": "stdout",
     "output_type": "stream",
     "text": [
      "Accuracy: 0.5361245007574714\n",
      "It took 0.3625926971435547 seconds! 15100\n"
     ]
    },
    {
     "name": "stdout",
     "output_type": "stream",
     "text": [
      "{0.0, 1.0}\n",
      "{0.0, 1.0}\n",
      "[1. 0.]\n",
      "[1. 0.]\n"
     ]
    },
    {
     "name": "stdout",
     "output_type": "stream",
     "text": [
      "Accuracy: 0.5577881834458064\n",
      "It took 0.37890195846557617 seconds! 15600\n"
     ]
    },
    {
     "name": "stdout",
     "output_type": "stream",
     "text": [
      "{0.0, 1.0}\n",
      "{0.0, 1.0}\n",
      "[1. 0.]\n",
      "[1. 0.]\n"
     ]
    },
    {
     "name": "stdout",
     "output_type": "stream",
     "text": [
      "Accuracy: 0.5420511407978699\n",
      "It took 0.39916467666625977 seconds! 16100\n"
     ]
    },
    {
     "name": "stdout",
     "output_type": "stream",
     "text": [
      "{0.0, 1.0}\n",
      "{0.0, 1.0}\n",
      "[1. 0.]\n",
      "[1. 0.]\n"
     ]
    },
    {
     "name": "stdout",
     "output_type": "stream",
     "text": [
      "Accuracy: 0.5341734380021117\n",
      "It took 0.41832995414733887 seconds! 16600\n"
     ]
    },
    {
     "name": "stdout",
     "output_type": "stream",
     "text": [
      "{0.0, 1.0}\n",
      "{0.0, 1.0}\n",
      "[1. 0.]\n",
      "[1. 0.]\n"
     ]
    },
    {
     "name": "stdout",
     "output_type": "stream",
     "text": [
      "Accuracy: 0.5302529495478125\n",
      "It took 0.4879720211029053 seconds! 17100\n"
     ]
    },
    {
     "name": "stdout",
     "output_type": "stream",
     "text": [
      "{0.0, 1.0}\n",
      "{0.0, 1.0}\n",
      "[1. 0.]\n",
      "[1. 0.]\n"
     ]
    },
    {
     "name": "stdout",
     "output_type": "stream",
     "text": [
      "Accuracy: 0.5257769820502226\n",
      "It took 0.4264085292816162 seconds! 17600\n"
     ]
    },
    {
     "name": "stdout",
     "output_type": "stream",
     "text": [
      "{0.0, 1.0}\n",
      "{0.0, 1.0}\n",
      "[1. 0.]\n",
      "[1. 0.]\n"
     ]
    },
    {
     "name": "stdout",
     "output_type": "stream",
     "text": [
      "Accuracy: 0.5609328375338567\n",
      "It took 0.5090241432189941 seconds! 18100\n"
     ]
    },
    {
     "name": "stdout",
     "output_type": "stream",
     "text": [
      "{0.0, 1.0}\n",
      "{0.0, 1.0}\n",
      "[1. 0.]\n",
      "[1. 0.]\n"
     ]
    },
    {
     "name": "stdout",
     "output_type": "stream",
     "text": [
      "Accuracy: 0.535807739980719\n",
      "It took 0.5368776321411133 seconds! 18600\n"
     ]
    },
    {
     "name": "stdout",
     "output_type": "stream",
     "text": [
      "{0.0, 1.0}\n",
      "{0.0, 1.0}\n",
      "[1. 0.]\n",
      "[1. 0.]\n"
     ]
    },
    {
     "name": "stdout",
     "output_type": "stream",
     "text": [
      "Accuracy: 0.5256943488041133\n",
      "It took 0.6889338493347168 seconds! 19100\n"
     ]
    },
    {
     "name": "stdout",
     "output_type": "stream",
     "text": [
      "{0.0, 1.0}\n",
      "{0.0, 1.0}\n",
      "[1. 0.]\n",
      "[1. 0.]\n"
     ]
    },
    {
     "name": "stdout",
     "output_type": "stream",
     "text": [
      "Accuracy: 0.5413808933572052\n",
      "It took 0.5153753757476807 seconds! 19600\n",
      "[100, 600, 1100, 1600, 2100, 2600, 3100, 3600, 4100, 4600, 5100, 5600, 6100, 6600, 7100, 7600, 8100, 8600, 9100, 9600, 10100, 10600, 11100, 11600, 12100, 12600, 13100, 13600, 14100, 14600, 15100, 15600, 16100, 16600, 17100, 17600, 18100, 18600, 19100, 19600]\n",
      "[0.08322644233703613, 0.025999784469604492, 0.02896904945373535, 0.03746294975280762, 0.05063986778259277, 0.055877685546875, 0.07206439971923828, 0.076904296875, 0.08759856224060059, 0.10330796241760254, 0.11113500595092773, 0.12987589836120605, 0.1417090892791748, 0.17165017127990723, 0.1597905158996582, 0.16701054573059082, 0.18401598930358887, 0.18906188011169434, 0.2052135467529297, 0.25151753425598145, 0.22946977615356445, 0.23468899726867676, 0.24975299835205078, 0.26549816131591797, 0.31172823905944824, 0.35024476051330566, 0.3349466323852539, 0.33131980895996094, 0.38683223724365234, 0.37598371505737305, 0.3625926971435547, 0.37890195846557617, 0.39916467666625977, 0.41832995414733887, 0.4879720211029053, 0.4264085292816162, 0.5090241432189941, 0.5368776321411133, 0.6889338493347168, 0.5153753757476807]\n",
      "Accuracy: [0.663953541752743, 0.7140568333103796, 0.7474039388513979, 0.5142037368590185, 0.7006702474406648, 0.7127806087315797, 0.6515493733645503, 0.627145021346922, 0.6455171463985677, 0.6429601065050727, 0.6482578157278612, 0.6339071753202038, 0.630064729376119, 0.6158564017812055, 0.538727448009916, 0.5446311343708397, 0.5418675113620713, 0.5590322728733416, 0.524583390717532, 0.5607216636826884, 0.5608410228159574, 0.5332139742000642, 0.5471468576412799, 0.5490198778864251, 0.5510398016802094, 0.5528944589817748, 0.5296882890327319, 0.5333379240692283, 0.5539549189735115, 0.5661020061515861, 0.5361245007574714, 0.5577881834458064, 0.5420511407978699, 0.5341734380021117, 0.5302529495478125, 0.5257769820502226, 0.5609328375338567, 0.535807739980719, 0.5256943488041133, 0.5413808933572052]\n",
      "F1 Accuracy: [0.663953541752743, 0.7140568333103796, 0.7474039388513979, 0.5142037368590185, 0.7006702474406648, 0.7127806087315797, 0.6515493733645503, 0.627145021346922, 0.6455171463985677, 0.6429601065050727, 0.6482578157278612, 0.6339071753202038, 0.630064729376119, 0.6158564017812055, 0.538727448009916, 0.5446311343708397, 0.5418675113620713, 0.5590322728733416, 0.524583390717532, 0.5607216636826884, 0.5608410228159574, 0.5332139742000642, 0.5471468576412799, 0.5490198778864251, 0.5510398016802094, 0.5528944589817748, 0.5296882890327319, 0.5333379240692283, 0.5539549189735115, 0.5661020061515861, 0.5361245007574714, 0.5577881834458064, 0.5420511407978699, 0.5341734380021117, 0.5302529495478125, 0.5257769820502226, 0.5609328375338567, 0.535807739980719, 0.5256943488041133, 0.5413808933572052]\n",
      "bas Accuracy: [0.7059838242720187, 0.7039530074171254, 0.7699013697853427, 0.45687009907112597, 0.6905285333572244, 0.695962261385797, 0.6195063247408621, 0.6031206561491177, 0.6011855293170255, 0.6103396455438563, 0.6191975367232913, 0.6027834568929187, 0.6004809183297559, 0.5915494440392968, 0.4825509089403551, 0.4968538850734006, 0.49247226043975645, 0.5070209787113715, 0.4800460119272121, 0.510611929812141, 0.5121937363236571, 0.4863808410175638, 0.4992781989538002, 0.5058871435692838, 0.49519140797781624, 0.4984589366691602, 0.488791958884616, 0.4896445257663451, 0.502669218052543, 0.5137843506193538, 0.4883435502585635, 0.5031721023277611, 0.4982249208395828, 0.480824269982445, 0.48576683221332984, 0.47881469335754195, 0.5110526348901444, 0.4942319612194359, 0.4695423899282805, 0.489183379267468]\n",
      "Mc Accuracy: [0.4430434403541883, 0.40865279825507, 0.5381781612645263, -0.1097534964116278, 0.381440569694623, 0.3994541107822377, 0.2572881692734294, 0.21339559021666268, 0.2362162296767027, 0.23793469448908522, 0.25268232280778397, 0.2195913396735929, 0.21294264768309845, 0.18939299355716713, -0.044215736884293345, -0.007356441302176384, -0.017834552257354128, 0.01713627218823214, -0.04526821680885503, 0.025444536742348502, 0.028854390599471702, -0.03150643348280307, -0.0016902002061798345, 0.013296886350883979, -0.012194489419703058, -0.003849494615722614, -0.024833010730870454, -0.02339835670145833, 0.0064583129191566726, 0.03382525010244402, -0.02719466380795928, 0.007953128397536135, -0.004022691564803198, -0.047056292880755204, -0.03232060812286417, -0.04896690429381913, 0.026446691708889702, -0.01285270194053372, -0.07679099541645985, -0.026300639045472966]\n"
     ]
    },
    {
     "data": {
      "text/plain": [
       "<matplotlib.legend.Legend at 0x7f82e00f7a60>"
      ]
     },
     "execution_count": 40,
     "metadata": {
     },
     "output_type": "execute_result"
    },
    {
     "data": {
      "image/png": "[encoded data removed]",
      "text/plain": [
       "<Figure size 864x504 with 1 Axes>"
      ]
     },
     "metadata": {
      "image/png": {
       "height": 454,
       "width": 739
      }
     }
    }
   ],
   "source": [
    "number = []\n",
    "timearray = []\n",
    "accuracy_list = []\n",
    "bas_list = []\n",
    "F1_list = []\n",
    "Mc_list = []\n",
    "\n",
    "for i in range(100, 20000, 500):\n",
    "    start = time.time()\n",
    "    selection_X1 = Dataset_featured[0:i, :]\n",
    "    selection_Y1 = y[0:i]\n",
    "\n",
    "    clf.fit(selection_X1, selection_Y1)\n",
    "    y_pred = clf.predict(Dataset_featured1)\n",
    "    end = time.time()\n",
    "    length = end - start\n",
    "    \n",
    "    print(set(y1))\n",
    "    print(set(y_pred))\n",
    "    y1_series = pd.Series(y1)\n",
    "    y_pred_series = pd.Series(y_pred)\n",
    "    print(y1_series.unique())\n",
    "    print(y_pred_series.unique())\n",
    "\n",
    "\n",
    "    accuracy = accuracy_score(y1, y_pred)\n",
    "    Mc = matthews_corrcoef(y1, y_pred)\n",
    "    F1 = f1_score(y1, y_pred, average='micro')\n",
    "    bas = balanced_accuracy_score(y1, y_pred)\n",
    "\n",
    "\n",
    "    timearray.append(length)\n",
    "    number.append(i)\n",
    "    accuracy_list.append(accuracy)\n",
    "    bas_list.append(bas)\n",
    "    F1_list.append(F1)\n",
    "    Mc_list.append(Mc)\n",
    "\n",
    "    print(\"Accuracy:\", accuracy)\n",
    "    print(\"It took\", length, \"seconds!\", i)\n",
    "\n",
    "print(number)\n",
    "print(timearray)\n",
    "print(\"Accuracy:\", accuracy_list)\n",
    "print(\"F1 Accuracy:\", F1_list)\n",
    "print(\"bas Accuracy:\", bas_list)\n",
    "print(\"Mc Accuracy:\", Mc_list)\n",
    "\n",
    "plt.plot(number, accuracy_list, label=\"accuracy\")\n",
    "plt.plot(number, F1_list, label=\"F1\")\n",
    "plt.plot(number, bas_list, label=\"bas\")\n",
    "plt.plot(number, Mc_list, label=\"Mc\")\n",
    "\n",
    "plt.xlabel('number of data points')\n",
    "plt.ylabel('accuracy')\n",
    "plt.title('Accuracy')\n",
    "plt.legend()\n",
    "        "
   ]
  },
  {
   "cell_type": "code",
   "execution_count": 37,
   "id": "124cf0",
   "metadata": {
    "collapsed": false
   },
   "outputs": [
   ],
   "source": [
    "feature_names=[\"x0\",\"y0\",\"z0\",\"t0\",\"q0\",\"x1\",\"y1\",\"z1\",\"t1\",\"q1\",\"Velocity\",\"Velocity1\",\"HitSep\",\"HitVdiff\",\"HOA\",\"HNSI\",\"HSA\"]\n",
    "labels = [\"background\",\"signal\"]"
   ]
  },
  {
   "cell_type": "code",
   "execution_count": 38,
   "id": "a3b4f9",
   "metadata": {
    "collapsed": false
   },
   "outputs": [
    {
     "data": {
      "image/png": "[encoded data removed]",
      "text/plain": [
       "<Figure size 2160x720 with 1 Axes>"
      ]
     },
     "metadata": {
      "image/png": {
       "height": 579,
       "width": 1727
      }
     }
    },
    {
     "name": "stdout",
     "output_type": "stream",
     "text": [
      "|--- HNSI <= -0.15\n",
      "|   |--- q1 <= -0.74\n",
      "|   |   |--- t0 <= -0.60\n",
      "|   |   |   |--- class: 1.0\n",
      "|   |   |--- t0 >  -0.60\n",
      "|   |   |   |--- x1 <= 0.06\n",
      "|   |   |   |   |--- HNSI <= -0.23\n",
      "|   |   |   |   |   |--- x0 <= -0.14\n",
      "|   |   |   |   |   |   |--- class: 0.0\n",
      "|   |   |   |   |   |--- x0 >  -0.14\n",
      "|   |   |   |   |   |   |--- class: 1.0\n",
      "|   |   |   |   |--- HNSI >  -0.23\n",
      "|   |   |   |   |   |--- class: 0.0\n",
      "|   |   |   |--- x1 >  0.06\n",
      "|   |   |   |   |--- class: 0.0\n",
      "|   |--- q1 >  -0.74\n",
      "|   |   |--- q0 <= -0.96\n",
      "|   |   |   |--- HNSI <= -0.19\n",
      "|   |   |   |   |--- z1 <= -0.82\n",
      "|   |   |   |   |   |--- class: 0.0\n",
      "|   |   |   |   |--- z1 >  -0.82\n",
      "|   |   |   |   |   |--- class: 1.0\n",
      "|   |   |   |--- HNSI >  -0.19\n",
      "|   |   |   |   |--- class: 0.0\n",
      "|   |   |--- q0 >  -0.96\n",
      "|   |   |   |--- class: 1.0\n",
      "|--- HNSI >  -0.15\n",
      "|   |--- HitSep <= 0.55\n",
      "|   |   |--- HOA <= -0.26\n",
      "|   |   |   |--- HNSI <= 0.81\n",
      "|   |   |   |   |--- HitSep <= 0.12\n",
      "|   |   |   |   |   |--- HNSI <= -0.10\n",
      "|   |   |   |   |   |   |--- z1 <= -0.88\n",
      "|   |   |   |   |   |   |   |--- q1 <= 1.91\n",
      "|   |   |   |   |   |   |   |   |--- class: 0.0\n",
      "|   |   |   |   |   |   |   |--- q1 >  1.91\n",
      "|   |   |   |   |   |   |   |   |--- HOA <= -0.64\n",
      "|   |   |   |   |   |   |   |   |   |--- class: 0.0\n",
      "|   |   |   |   |   |   |   |   |--- HOA >  -0.64\n",
      "|   |   |   |   |   |   |   |   |   |--- class: 1.0\n",
      "|   |   |   |   |   |   |--- z1 >  -0.88\n",
      "|   |   |   |   |   |   |   |--- class: 0.0\n",
      "|   |   |   |   |   |--- HNSI >  -0.10\n",
      "|   |   |   |   |   |   |--- q1 <= -0.59\n",
      "|   |   |   |   |   |   |   |--- class: 0.0\n",
      "|   |   |   |   |   |   |--- q1 >  -0.59\n",
      "|   |   |   |   |   |   |   |--- HitVdiff <= -0.01\n",
      "|   |   |   |   |   |   |   |   |--- class: 1.0\n",
      "|   |   |   |   |   |   |   |--- HitVdiff >  -0.01\n",
      "|   |   |   |   |   |   |   |   |--- class: 0.0\n",
      "|   |   |   |   |--- HitSep >  0.12\n",
      "|   |   |   |   |   |--- y0 <= 1.57\n",
      "|   |   |   |   |   |   |--- class: 1.0\n",
      "|   |   |   |   |   |--- y0 >  1.57\n",
      "|   |   |   |   |   |   |--- class: 0.0\n",
      "|   |   |   |--- HNSI >  0.81\n",
      "|   |   |   |   |--- class: 1.0\n",
      "|   |   |--- HOA >  -0.26\n",
      "|   |   |   |--- q0 <= 2.10\n",
      "|   |   |   |   |--- t0 <= -1.21\n",
      "|   |   |   |   |   |--- t1 <= -1.11\n",
      "|   |   |   |   |   |   |--- class: 0.0\n",
      "|   |   |   |   |   |--- t1 >  -1.11\n",
      "|   |   |   |   |   |   |--- class: 1.0\n",
      "|   |   |   |   |--- t0 >  -1.21\n",
      "|   |   |   |   |   |--- HitVdiff <= -0.01\n",
      "|   |   |   |   |   |   |--- class: 1.0\n",
      "|   |   |   |   |   |--- HitVdiff >  -0.01\n",
      "|   |   |   |   |   |   |--- Velocity1 <= 0.11\n",
      "|   |   |   |   |   |   |   |--- x0 <= -2.14\n",
      "|   |   |   |   |   |   |   |   |--- class: 1.0\n",
      "|   |   |   |   |   |   |   |--- x0 >  -2.14\n",
      "|   |   |   |   |   |   |   |   |--- y1 <= 1.76\n",
      "|   |   |   |   |   |   |   |   |   |--- class: 0.0\n",
      "|   |   |   |   |   |   |   |   |--- y1 >  1.76\n",
      "|   |   |   |   |   |   |   |   |   |--- q1 <= -0.83\n",
      "|   |   |   |   |   |   |   |   |   |   |--- class: 0.0\n",
      "|   |   |   |   |   |   |   |   |   |--- q1 >  -0.83\n",
      "|   |   |   |   |   |   |   |   |   |   |--- class: 1.0\n",
      "|   |   |   |   |   |   |--- Velocity1 >  0.11\n",
      "|   |   |   |   |   |   |   |--- Velocity1 <= 0.24\n",
      "|   |   |   |   |   |   |   |   |--- y1 <= 1.14\n",
      "|   |   |   |   |   |   |   |   |   |--- class: 1.0\n",
      "|   |   |   |   |   |   |   |   |--- y1 >  1.14\n",
      "|   |   |   |   |   |   |   |   |   |--- class: 0.0\n",
      "|   |   |   |   |   |   |   |--- Velocity1 >  0.24\n",
      "|   |   |   |   |   |   |   |   |--- z0 <= -0.56\n",
      "|   |   |   |   |   |   |   |   |   |--- x1 <= 0.05\n",
      "|   |   |   |   |   |   |   |   |   |   |--- class: 0.0\n",
      "|   |   |   |   |   |   |   |   |   |--- x1 >  0.05\n",
      "|   |   |   |   |   |   |   |   |   |   |--- class: 1.0\n",
      "|   |   |   |   |   |   |   |   |--- z0 >  -0.56\n",
      "|   |   |   |   |   |   |   |   |   |--- class: 0.0\n",
      "|   |   |   |--- q0 >  2.10\n",
      "|   |   |   |   |--- class: 1.0\n",
      "|   |--- HitSep >  0.55\n",
      "|   |   |--- Velocity1 <= -0.41\n",
      "|   |   |   |--- class: 0.0\n",
      "|   |   |--- Velocity1 >  -0.41\n",
      "|   |   |   |--- q0 <= -0.56\n",
      "|   |   |   |   |--- HOA <= 0.69\n",
      "|   |   |   |   |   |--- HitVdiff <= -0.01\n",
      "|   |   |   |   |   |   |--- class: 1.0\n",
      "|   |   |   |   |   |--- HitVdiff >  -0.01\n",
      "|   |   |   |   |   |   |--- class: 0.0\n",
      "|   |   |   |   |--- HOA >  0.69\n",
      "|   |   |   |   |   |--- class: 0.0\n",
      "|   |   |   |--- q0 >  -0.56\n",
      "|   |   |   |   |--- HNSI <= 3.26\n",
      "|   |   |   |   |   |--- q1 <= -0.87\n",
      "|   |   |   |   |   |   |--- class: 0.0\n",
      "|   |   |   |   |   |--- q1 >  -0.87\n",
      "|   |   |   |   |   |   |--- class: 1.0\n",
      "|   |   |   |   |--- HNSI >  3.26\n",
      "|   |   |   |   |   |--- class: 0.0\n",
      "\n"
     ]
    }
   ],
   "source": [
    "plt.figure(figsize=(30,10), facecolor ='k')\n",
    "\n",
    "a = tree.plot_tree(clf,feature_names = feature_names, class_names =labels, rounded = True, filled = True, fontsize=14)\n",
    "\n",
    "plt.show()\n",
    "\n",
    "\n",
    "from sklearn.tree import export_text\n",
    "\n",
    "tree_rules = export_text(clf,feature_names = list(feature_names))\n",
    "\n",
    "print(tree_rules)"
   ]
  },
  {
   "cell_type": "code",
   "execution_count": 39,
   "id": "866928",
   "metadata": {
    "collapsed": false
   },
   "outputs": [
    {
     "data": {
      "image/png": "[encoded data removed]",
      "text/plain": [
       "<Figure size 864x504 with 2 Axes>"
      ]
     },
     "metadata": {
      "image/png": {
       "height": 454,
       "width": 770
      }
     }
    },
    {
     "data": {
      "text/plain": [
       "<Figure size 720x504 with 0 Axes>"
      ]
     },
     "execution_count": 39,
     "metadata": {
     },
     "output_type": "execute_result"
    }
   ],
   "source": [
    "import seaborn as sns\n",
    "from sklearn import metrics\n",
    "\n",
    "confusion_matrix = metrics.confusion_matrix(y1, y_pred)\n",
    "\n",
    "matrix_df = pd.DataFrame(confusion_matrix)\n",
    "\n",
    "ax = plt.axes()\n",
    "\n",
    "sns.set(font_scale=1.3)\n",
    "\n",
    "plt.figure(figsize=(10,7))\n",
    "\n",
    "sns.heatmap(matrix_df, annot=True, fmt=\"g\", ax=ax, cmap=\"magma\")\n",
    "\n",
    "ax.set_title('Confusion Matrix - Decision Tree')\n",
    "\n",
    "ax.set_xlabel(\"Predicted label\", fontsize =15)\n",
    "\n",
    "ax.set_xticklabels([]+labels)\n",
    "\n",
    "ax.set_ylabel(\"True Label\", fontsize=15)\n",
    "\n",
    "ax.set_yticklabels(list(labels), rotation = 0)\n",
    "\n",
    "plt.show()"
   ]
  }
 ],
 "metadata": {
  "kernelspec": {
   "argv": [
    "/usr/bin/python3",
    "-m",
    "ipykernel",
    "--HistoryManager.enabled=False",
    "--matplotlib=inline",
    "-c",
    "%config InlineBackend.figure_formats = set(['retina'])\nimport matplotlib; matplotlib.rcParams['figure.figsize'] = (12, 7)",
    "-f",
    "{connection_file}"
   ],
   "display_name": "pyROOT (Python 3)",
   "env": {
    "LD_LIBRARY_PATH": "/home/user/software/ROOT/installs/6.30.06/lib",
    "PYTHONPATH": "/home/user/software/ROOT/installs/6.30.06/lib",
    "ROOTSYS": "/home/user/software/ROOT/installs/6.30.06"
   },
   "language": "python",
   "metadata": {
    "cocalc": {
     "description": "Python 3 programming language",
     "priority": 100,
     "url": "https://www.python.org/"
    }
   },
   "name": "pyroot",
   "resource_dir": "/home/user/.local/share/jupyter/kernels/pyROOT"
  },
  "language_info": {
   "codemirror_mode": {
    "name": "ipython",
    "version": 3
   },
   "file_extension": ".py",
   "mimetype": "text/x-python",
   "name": "python",
   "nbconvert_exporter": "python",
   "pygments_lexer": "ipython3",
   "version": "3.10.12"
  }
 },
 "nbformat": 4,
 "nbformat_minor": 4
}