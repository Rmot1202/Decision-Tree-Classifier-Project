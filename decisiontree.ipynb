{
 "cells": [
  {
   "cell_type": "code",
   "execution_count": 5,
   "id": "bc0468",
   "metadata": {
    "collapsed": false
   },
   "outputs": [],
   "source": [
    "from sklearn import tree\n",
    "import numpy as np\n",
    "import matplotlib.pyplot as plt \n",
    "import pandas as pd\n",
    "from sklearn.preprocessing import StandardScaler\n",
    "from sklearn.model_selection import train_test_split\n",
    "from sklearn.metrics import f1_score, accuracy_score, matthews_corrcoef, balanced_accuracy_score\n",
    "import time"
   ]
  },
  {
   "cell_type": "code",
   "execution_count": null,
   "id": "545355",
   "metadata": {
    "collapsed": false
   },
   "outputs": [],
   "source": [
    "# load ROOT\n",
    "import ROOT"
   ]
  },
  {
   "cell_type": "code",
   "execution_count": null,
   "id": "c79142",
   "metadata": {
    "collapsed": false
   },
   "outputs": [],
   "source": [
    "# load TNeutron class\n",
    "ROOT.gSystem.Load('/home/user/data/ML/lib/v6_30/TNeutron_cc.so')"
   ]
  },
  {
   "cell_type": "code",
   "execution_count": 8,
   "id": "c23c5b",
   "metadata": {
    "collapsed": false
   },
   "outputs": [],
   "source": [
    "# set the path to our simulation file\n",
    "#datapath = \"/home/user/data/ML/MLP_mult2/\"\n",
    "#datapath = \"/home/user/data/ML/e15118/\"\n",
    "datapath = \"/home/user/data/ML/stmona/\""
   ]
  },
  {
   "cell_type": "code",
   "execution_count": 9,
   "id": "4d54a4",
   "metadata": {
    "collapsed": false
   },
   "outputs": [],
   "source": [
    "# open the ROOT file and load the TTree that it contains\n",
    "#rootfile = ROOT.TFile(datapath + \"delta18_O262plus_2nThermal2.root\",\"READ\")\n",
    "# try this one for training\n",
    "rootfile = ROOT.TFile(datapath + \"tneutron_mult2_26O_24O+2n-uniform.root\",\"READ\")\n",
    "# try this one to test your trained model\n",
    "rootfile1 = ROOT.TFile(datapath + \"tneutron_mult2_26O_24O+2n-delta500keV.root\",\"READ\")\n",
    "tre1= rootfile1.Get(\"snt\")\n",
    "tre = rootfile.Get(\"snt\")\n",
    "#tree.Print()"
   ]
  },
  {
   "cell_type": "code",
   "execution_count": 10,
   "id": "5a4833",
   "metadata": {
    "collapsed": false
   },
   "outputs": [],
   "source": [
    "# copy data from the tree\n",
    "entries = tre.GetEntries();\n",
    "hit_data = np.zeros((entries, 10));\n",
    "label = np.empty(entries);\n",
    "label.fill(9);\n",
    "for i in range(entries):\n",
    "  # get the tree index for the next entry on our list\n",
    "  # and load this entry from the TTree\n",
    "  tre.GetEntry(i)\n",
    "  # transfer the data for this entry to our numpy array\n",
    "  # x0\n",
    "  hit_data[i][0] = tre.g.x[0]\n",
    "  # y0\n",
    "  hit_data[i][1] = tre.g.y[0]\n",
    "  # z0\n",
    "  hit_data[i][2] = tre.g.z[0]\n",
    "  # t0\n",
    "  hit_data[i][3] = tre.g.t[0]\n",
    "  # q0\n",
    "  hit_data[i][4] = tre.g.q[0]\n",
    "  # x1\n",
    "  hit_data[i][5] = tre.g.x[1]\n",
    "  # y1\n",
    "  hit_data[i][6] = tre.g.y[1]\n",
    "  # z1\n",
    "  hit_data[i][7] = tre.g.z[1]\n",
    "  # t1\n",
    "  hit_data[i][8] = tre.g.t[1]\n",
    "  # q1\n",
    "  hit_data[i][9] = tre.g.q[1]\n",
    "  # label\n",
    "  label[i]= tre.signal\n",
    "  #label[i]= tree.target"
   ]
  },
  {
   "cell_type": "code",
   "execution_count": 11,
   "id": "6c8faa",
   "metadata": {
    "collapsed": false
   },
   "outputs": [],
   "source": [
    "# create calculated data matrix\n",
    "entries = tre.GetEntries();\n",
    "hit_calc= np.zeros((entries, 7));\n",
    "for i in range(entries):\n",
    "  # calculated quantities\n",
    "  tre.GetEntry(i);\n",
    "  hit_calc[i][0] = tre.g.GetVelocity(0);\n",
    "  hit_calc[i][1] = tre.g.GetVelocity(1);\n",
    "  hit_calc[i][2] = tre.g.HitSeparation(0,1);\n",
    "  hit_calc[i][3] = tre.g.HitVdiff(0,1);\n",
    "  hit_calc[i][4] = tre.g.HitOpeningAngle(0,1);\n",
    "  hit_calc[i][5] = tre.g.HitNSI(0,1);\n",
    "  hit_calc[i][6] = tre.g.HitScatteringAngle(0,1);"
   ]
  },
  {
   "cell_type": "code",
   "execution_count": 12,
   "id": "952930",
   "metadata": {
    "collapsed": false
   },
   "outputs": [],
   "source": [
    "# copy data from the tree\n",
    "entries1 = tre1.GetEntries();\n",
    "hit_data1 = np.zeros((entries1, 10));\n",
    "label1 = np.empty(entries1);\n",
    "label1.fill(9);\n",
    "for o in range(entries1):\n",
    "  # get the tree index for the next entry on our list\n",
    "  # and load this entry from the TTree\n",
    "  tre1.GetEntry(o)\n",
    "  # transfer the data for this entry to our numpy array\n",
    "  # x0\n",
    "  hit_data1[o][0] = tre1.g.x[0]\n",
    "  # y0\n",
    "  hit_data1[o][1] = tre1.g.y[0]\n",
    "  # z0\n",
    "  hit_data1[o][2] = tre1.g.z[0]\n",
    "  # t0\n",
    "  hit_data1[o][3] = tre1.g.t[0]\n",
    "  # q0\n",
    "  hit_data1[o][4] = tre1.g.q[0]\n",
    "  # x1\n",
    "  hit_data1[o][5] = tre1.g.x[1]\n",
    "  # y1\n",
    "  hit_data1[o][6] = tre1.g.y[1]\n",
    "  # z1\n",
    "  hit_data1[o][7] = tre1.g.z[1]\n",
    "  # t1\n",
    "  hit_data1[o][8] = tre1.g.t[1]\n",
    "  # q1\n",
    "  hit_data1[o][9] = tre1.g.q[1]\n",
    "  # label\n",
    "  label1[o]= tre1.signal"
   ]
  },
  {
   "cell_type": "code",
   "execution_count": 13,
   "id": "7e5a68",
   "metadata": {
    "collapsed": false
   },
   "outputs": [],
   "source": [
    "# create calculated data matrix\n",
    "entries1 = tre1.GetEntries();\n",
    "hit_calc1= np.zeros((entries1, 7));\n",
    "for o in range(entries1):\n",
    "  # calculated quantities\n",
    "  tre1.GetEntry(o);\n",
    "  hit_calc1[o][0] = tre1.g.GetVelocity(0);\n",
    "  hit_calc1[o][1] = tre1.g.GetVelocity(1);\n",
    "  hit_calc1[o][2] = tre1.g.HitSeparation(0,1);\n",
    "  hit_calc1[o][3] = tre1.g.HitVdiff(0,1);\n",
    "  hit_calc1[o][4] = tre1.g.HitOpeningAngle(0,1);\n",
    "  hit_calc1[o][5] = tre1.g.HitNSI(0,1);\n",
    "  hit_calc1[o][6] = tre1.g.HitScatteringAngle(0,1);"
   ]
  },
  {
   "cell_type": "code",
   "execution_count": 14,
   "id": "bfdcdb",
   "metadata": {
    "collapsed": false
   },
   "outputs": [],
   "source": [
    "# Concatenate measured and calculated quantities\n",
    "input_data_min_max1 = np.concatenate((hit_data1, hit_calc1), axis=1)\n",
    "X1 = input_data_min_max1\n",
    "y1 = label1\n",
    "# Scale the features using Standered\n",
    "scaler = StandardScaler()\n",
    "Dataset_featured1 = scaler.fit_transform(X1)"
   ]
  },
  {
   "cell_type": "code",
   "execution_count": 15,
   "id": "3ed1af",
   "metadata": {
    "collapsed": false
   },
   "outputs": [],
   "source": [
    "# Concatenate measured and calculated quantities\n",
    "input_data_min_max = np.concatenate((hit_data, hit_calc), axis=1)\n",
    "X = input_data_min_max\n",
    "y = label\n",
    "\n",
    "# Scale the features using Standered\n",
    "Dataset_featured = scaler.fit_transform(X)"
   ]
  },
  {
   "cell_type": "code",
   "execution_count": 16,
   "id": "53aa83",
   "metadata": {
    "collapsed": false
   },
   "outputs": [],
   "source": [
    "clf = tree.DecisionTreeClassifier()"
   ]
  },
  {
   "cell_type": "code",
   "execution_count": null,
   "id": "d69286",
   "metadata": {
    "collapsed": false
   },
   "outputs": [],
   "source": [
    "number = []  # To store the number of data points (i.e., sample size in each iteration)\n",
    "timearray = []  # To store the time taken for each iteration\n",
    "accuracy_list = []  # To store the accuracy score for each iteration\n",
    "bas_list = []  # To store the balanced accuracy score for each iteration\n",
    "F1_list = []  # To store the F1 score for each iteration\n",
    "Mc_list = []  # To store the Matthews Correlation Coefficient for each iteration\n",
    "\n",
    "# Loop over different sample sizes starting from 100 to 20000 with a step of 500\n",
    "for i in range(100, 20000, 500):\n",
    "    start = time.time()  # Start timer\n",
    "\n",
    "    # Select the first i samples from Dataset_featured and corresponding labels\n",
    "    selection_X1 = Dataset_featured[0:i, :]\n",
    "    selection_Y1 = y[0:i]\n",
    "\n",
    "    # Train classifier clf with the selected samples\n",
    "    clf.fit(selection_X1, selection_Y1)\n",
    "\n",
    "    # Predict labels using the fitted model on Dataset_featured1 (test data presumably)\n",
    "    y_pred = clf.predict(Dataset_featured1)\n",
    "\n",
    "    end = time.time()  # End timer\n",
    "    length = end - start  # Calculate elapsed time\n",
    "\n",
    "    # Print the unique values of true labels (y1) and predicted labels (y_pred)\n",
    "    print(set(y1))\n",
    "    print(set(y_pred))\n",
    "\n",
    "    # Convert y1 and y_pred to pandas Series to explore unique values\n",
    "    y1_series = pd.Series(y1)\n",
    "    y_pred_series = pd.Series(y_pred)\n",
    "    print(y1_series.unique())\n",
    "    print(y_pred_series.unique())\n",
    "\n",
    "    # Calculate various metrics between the true labels (y1) and predicted labels (y_pred)\n",
    "    accuracy = accuracy_score(y1, y_pred)  # Accuracy score\n",
    "    Mc = matthews_corrcoef(y1, y_pred)  # Matthews correlation coefficient\n",
    "    F1 = f1_score(y1, y_pred, average='micro')  # F1 score with 'micro' averaging\n",
    "    bas = balanced_accuracy_score(y1, y_pred)  # Balanced accuracy score\n",
    "\n",
    "    # Append computed metrics and time to corresponding lists\n",
    "    timearray.append(length)  # Time taken\n",
    "    number.append(i)  # Number of samples used\n",
    "    accuracy_list.append(accuracy)  # Accuracy score\n",
    "    bas_list.append(bas)  # Balanced accuracy score\n",
    "    F1_list.append(F1)  # F1 score\n",
    "    Mc_list.append(Mc)  # Matthews correlation coefficient\n",
    "\n",
    "    # Print results of the current iteration\n",
    "    print(\"Accuracy:\", accuracy)\n",
    "    print(\"It took\", length, \"seconds!\", i)\n",
    "\n",
    "# Print the lists containing results after all iterations\n",
    "print(number)\n",
    "print(timearray)\n",
    "print(\"Accuracy:\", accuracy_list)\n",
    "print(\"F1 Accuracy:\", F1_list)\n",
    "print(\"bas Accuracy:\", bas_list)\n",
    "print(\"Mc Accuracy:\", Mc_list)\n",
    "\n",
    "# Plot the metrics against the number of data points used\n",
    "plt.plot(number, accuracy_list, label=\"accuracy\")  # Plot accuracy\n",
    "plt.plot(number, F1_list, label=\"F1\")  # Plot F1 score\n",
    "plt.plot(number, bas_list, label=\"bas\")  # Plot balanced accuracy\n",
    "plt.plot(number, Mc_list, label=\"Mc\")  # Plot Matthews correlation coefficient\n",
    "\n",
    "# Label the axes and give the plot a title\n",
    "plt.xlabel('number of data points')\n",
    "plt.ylabel('accuracy')\n",
    "plt.title('Accuracy')\n",
    "plt.legend()  # Display the legend\n"
   ]
  },
  {
   "cell_type": "code",
   "execution_count": 37,
   "id": "124cf0",
   "metadata": {
    "collapsed": false
   },
   "outputs": [],
   "source": [
    "feature_names=[\"x0\",\"y0\",\"z0\",\"t0\",\"q0\",\"x1\",\"y1\",\"z1\",\"t1\",\"q1\",\"Velocity\",\"Velocity1\",\"HitSep\",\"HitVdiff\",\"HOA\",\"HNSI\",\"HSA\"]\n",
    "labels = [\"background\",\"signal\"]"
   ]
  },
  {
   "cell_type": "code",
   "execution_count": null,
   "id": "a3b4f9",
   "metadata": {
    "collapsed": false
   },
   "outputs": [],
   "source": [
    "plt.figure(figsize=(30,10), facecolor ='k')\n",
    "\n",
    "a = tree.plot_tree(clf,feature_names = feature_names, class_names =labels, rounded = True, filled = True, fontsize=14)\n",
    "\n",
    "plt.show()\n",
    "\n",
    "\n",
    "from sklearn.tree import export_text\n",
    "\n",
    "tree_rules = export_text(clf,feature_names = list(feature_names))\n",
    "\n",
    "print(tree_rules)"
   ]
  },
  {
   "cell_type": "code",
   "execution_count": null,
   "id": "866928",
   "metadata": {
    "collapsed": false
   },
   "outputs": [],
   "source": [
    "import seaborn as sns\n",
    "from sklearn import metrics\n",
    "\n",
    "confusion_matrix = metrics.confusion_matrix(y1, y_pred)\n",
    "\n",
    "matrix_df = pd.DataFrame(confusion_matrix)\n",
    "\n",
    "ax = plt.axes()\n",
    "\n",
    "sns.set(font_scale=1.3)\n",
    "\n",
    "plt.figure(figsize=(10,7))\n",
    "\n",
    "sns.heatmap(matrix_df, annot=True, fmt=\"g\", ax=ax, cmap=\"magma\")\n",
    "\n",
    "ax.set_title('Confusion Matrix - Decision Tree')\n",
    "\n",
    "ax.set_xlabel(\"Predicted label\", fontsize =15)\n",
    "\n",
    "ax.set_xticklabels([]+labels)\n",
    "\n",
    "ax.set_ylabel(\"True Label\", fontsize=15)\n",
    "\n",
    "ax.set_yticklabels(list(labels), rotation = 0)\n",
    "\n",
    "plt.show()"
   ]
  }
 ],
 "metadata": {
  "kernelspec": {
   "argv": [
    "/usr/bin/python3",
    "-m",
    "ipykernel",
    "--HistoryManager.enabled=False",
    "--matplotlib=inline",
    "-c",
    "%config InlineBackend.figure_formats = set(['retina'])\nimport matplotlib; matplotlib.rcParams['figure.figsize'] = (12, 7)",
    "-f",
    "{connection_file}"
   ],
   "display_name": "pyROOT (Python 3)",
   "env": {
    "LD_LIBRARY_PATH": "/home/user/software/ROOT/installs/6.30.06/lib",
    "PYTHONPATH": "/home/user/software/ROOT/installs/6.30.06/lib",
    "ROOTSYS": "/home/user/software/ROOT/installs/6.30.06"
   },
   "language": "python",
   "metadata": {
    "cocalc": {
     "description": "Python 3 programming language",
     "priority": 100,
     "url": "https://www.python.org/"
    }
   },
   "name": "pyroot",
   "resource_dir": "/home/user/.local/share/jupyter/kernels/pyROOT"
  },
  "language_info": {
   "codemirror_mode": {
    "name": "ipython",
    "version": 3
   },
   "file_extension": ".py",
   "mimetype": "text/x-python",
   "name": "python",
   "nbconvert_exporter": "python",
   "pygments_lexer": "ipython3",
   "version": "3.10.12"
  }
 },
 "nbformat": 4,
 "nbformat_minor": 4
}
